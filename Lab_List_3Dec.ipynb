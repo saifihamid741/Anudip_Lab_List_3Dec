{
 "cells": [
  {
   "cell_type": "code",
   "execution_count": null,
   "id": "469c1182",
   "metadata": {},
   "outputs": [],
   "source": [
    "1. Write a Python program to sum all the items in a list. "
   ]
  },
  {
   "cell_type": "code",
   "execution_count": 1,
   "id": "e717e865",
   "metadata": {},
   "outputs": [
    {
     "name": "stdout",
     "output_type": "stream",
     "text": [
      "The sum of all items in the list is: 15\n"
     ]
    }
   ],
   "source": [
    "list = [1, 2, 3, 4, 5]\n",
    "\n",
    "total = sum(list)  # Sum all the items in the list using the sum() function\n",
    "\n",
    "print(\"The sum of all items in the list is:\", total)"
   ]
  },
  {
   "cell_type": "code",
   "execution_count": null,
   "id": "956f6b13",
   "metadata": {},
   "outputs": [],
   "source": [
    "2. Write a Python program to get the largest and smallest number from a list without builtin functions. "
   ]
  },
  {
   "cell_type": "code",
   "execution_count": 2,
   "id": "a72a41af",
   "metadata": {},
   "outputs": [
    {
     "name": "stdout",
     "output_type": "stream",
     "text": [
      "The largest number is: 10\n",
      "The smallest number is: -1\n"
     ]
    }
   ],
   "source": [
    "numbers = [1, 2, 3, 4, 5, -1, 10, 0]\n",
    "\n",
    "# Initialize variables to store the largest and smallest numbers\n",
    "# Start by setting them to the first element of the list\n",
    "largest = numbers[0]\n",
    "smallest = numbers[0]\n",
    "\n",
    "for num in numbers:\n",
    "    if num > largest:\n",
    "        largest = num\n",
    "    if num < smallest:\n",
    "        smallest = num\n",
    "\n",
    "print(\"The largest number is:\", largest)\n",
    "print(\"The smallest number is:\", smallest)"
   ]
  },
  {
   "cell_type": "code",
   "execution_count": null,
   "id": "cdd6bd80",
   "metadata": {},
   "outputs": [],
   "source": [
    "3. Write a Python program to find duplicate values from a list and display those."
   ]
  },
  {
   "cell_type": "code",
   "execution_count": 3,
   "id": "02253c90",
   "metadata": {},
   "outputs": [
    {
     "name": "stdout",
     "output_type": "stream",
     "text": [
      "Duplicate values in the list are: [2, 3, 5]\n"
     ]
    }
   ],
   "source": [
    "numbers = [1, 2, 3, 4, 5, 3, 6, 7, 2, 8, 9, 5]\n",
    "\n",
    "# Create an empty dictionary to store the count of each element\n",
    "count_dict = {}\n",
    "\n",
    "# Iterate through the list and count occurrences of each element\n",
    "for num in numbers:\n",
    "    if num in count_dict:\n",
    "        count_dict[num] += 1\n",
    "    else:\n",
    "        count_dict[num] = 1\n",
    "\n",
    "# Create a list to store duplicate values\n",
    "duplicates = []\n",
    "\n",
    "# Check the dictionary for numbers that have more than one occurrence\n",
    "for num, count in count_dict.items():\n",
    "    if count > 1:\n",
    "        duplicates.append(num)\n",
    "\n",
    "# Print the duplicates\n",
    "print(\"Duplicate values in the list are:\", duplicates)"
   ]
  },
  {
   "cell_type": "code",
   "execution_count": null,
   "id": "c5672e66",
   "metadata": {},
   "outputs": [],
   "source": [
    "4. Write a Python program to split a given list into two parts where the length of the first part of the list is given. \n",
    "Original list: [1, 1, 2, 3, 4, 4, 5, 1] \n",
    "Length of the first part of the list: 3 \n",
    "Splitted the said list into two parts: ([1, 1, 2], [3, 4, 4, 5, 1]) "
   ]
  },
  {
   "cell_type": "code",
   "execution_count": 5,
   "id": "fa00fc78",
   "metadata": {},
   "outputs": [
    {
     "name": "stdout",
     "output_type": "stream",
     "text": [
      "Splitted the said list into two parts: ([1, 1, 2], [3, 4, 4, 5, 1])\n"
     ]
    }
   ],
   "source": [
    "original_list = [1, 1, 2, 3, 4, 4, 5, 1]\n",
    "a = 3  # Define the length of the first part\n",
    "\n",
    "# Split the list into two parts\n",
    "first_part = original_list[:a]\n",
    "second_part = original_list[a:]\n",
    "\n",
    "print(\"Splitted the said list into two parts:\", (first_part, second_part))"
   ]
  },
  {
   "cell_type": "code",
   "execution_count": null,
   "id": "bd39ea66",
   "metadata": {},
   "outputs": [],
   "source": [
    "5. Write a Python program to traverse a given list in reverse order, and print the elements with the original index. \n",
    "Original list: ['red', 'green', 'white', 'black'] Traverse the said list in reverse order: black white green red"
   ]
  },
  {
   "cell_type": "code",
   "execution_count": 6,
   "id": "16d8356a",
   "metadata": {},
   "outputs": [
    {
     "name": "stdout",
     "output_type": "stream",
     "text": [
      "Element: black, Original Index: 3\n",
      "Element: white, Original Index: 2\n",
      "Element: green, Original Index: 1\n",
      "Element: red, Original Index: 0\n"
     ]
    }
   ],
   "source": [
    "list = ['red', 'green', 'white', 'black']\n",
    "\n",
    "# Traverse the list in reverse order and print the elements with their original index\n",
    "for index in range(len(list) - 1, -1, -1):\n",
    "    print(f\"Element: {list[index]}, Original Index: {index}\")"
   ]
  },
  {
   "cell_type": "code",
   "execution_count": null,
   "id": "1704f993",
   "metadata": {},
   "outputs": [],
   "source": []
  }
 ],
 "metadata": {
  "kernelspec": {
   "display_name": "Python 3 (ipykernel)",
   "language": "python",
   "name": "python3"
  },
  "language_info": {
   "codemirror_mode": {
    "name": "ipython",
    "version": 3
   },
   "file_extension": ".py",
   "mimetype": "text/x-python",
   "name": "python",
   "nbconvert_exporter": "python",
   "pygments_lexer": "ipython3",
   "version": "3.9.12"
  }
 },
 "nbformat": 4,
 "nbformat_minor": 5
}
